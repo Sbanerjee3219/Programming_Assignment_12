{
 "cells": [
  {
   "cell_type": "code",
   "execution_count": 50,
   "metadata": {},
   "outputs": [],
   "source": [
    "class Assignment_12:\n",
    "   \n",
    "    dictionary={\n",
    "            \"A\":[1,4,8,6,4,5],\n",
    "            \"B\":[4,8,6,2,5,7],\n",
    "            \"C\":[5,6,1,2,3,4]\n",
    "           }\n",
    "    l=[i for val in dictionary.values() for i in val]\n",
    "        \n",
    "\n",
    "    def unique_values(self):\n",
    "        \"\"\"Write a Python program to Extract Unique values dictionary values?\"\"\"\n",
    "        return set(Assignment_12.l)\n",
    "    \n",
    "    def sum_items(self):\n",
    "        \"\"\"Write a Python program to find the sum of all items in a dictionary?\"\"\"\n",
    "        return sum(Assignment_12.l)\n",
    "    \n",
    "    def merging_dict(self,d1,d2):\n",
    "        \"\"\"Write a Python program to Merging two Dictionaries?\"\"\"\n",
    "        d1.update(d2) #or we can use d1 | d2\n",
    "        return d1\n",
    "    \n",
    "    def flat_dict_type1(self, d):\n",
    "        \"\"\"Write a Python program to convert key-values list to flat dictionary?\"\"\"\n",
    "        l = [i for i in new[list(d.keys())[0]]]\n",
    "        m = [i for i in new[list(d.keys())[1]]]\n",
    "        new_dict = {}\n",
    "        try:\n",
    "            for i in range(len(l)):\n",
    "                new_dict[l[i]] = m[i]\n",
    "        except Exception as e:\n",
    "            print(e)\n",
    "        return new_dict\n",
    "    \n",
    "    def flat_dict_type2(self, d):\n",
    "        \"\"\"Write a Python program to convert key-values list to flat dictionary?\"\"\"\n",
    "        return dict(list(zip(d[list(d.keys())[0]],d[list(d.keys())[1]])))\n",
    "    \n",
    "    def insert_in_ordered(self,d):\n",
    "        \"\"\"Write a Python program to insertion at the beginning in OrderedDict?\"\"\"\n",
    "        from collections import OrderedDict\n",
    "        x= OrderedDict(d)\n",
    "        key1=input(\"enter key to update\")\n",
    "        val1=input(\"enter value to update\")\n",
    "        x.update({key1:val1})\n",
    "        x.move_to_end(key1,last=False)\n",
    "        return x\n",
    "    def pattern_check(self):\n",
    "        \"\"\"Write a Python program to check order of character in string using OrderedDict()?\"\"\"\n",
    "        from collections import OrderedDict\n",
    "        pattern_lenght=0\n",
    "        pattern = input(\"Enter the patter to search\")\n",
    "        test_str=input(\"Enter the test string\")\n",
    "        test_dict=OrderedDict.fromkeys(test_str)\n",
    "        for key in test_dict.keys():\n",
    "\n",
    "            if key==pattern[pattern_lenght]:\n",
    "                pattern_lenght+=1\n",
    "            if pattern_lenght==len(pattern):\n",
    "                return \"Order is correct\"\n",
    "        return \"order incorrect\"\n",
    "        \n",
    "    def merge_and_sort(self,d1,d2):\n",
    "        \"\"\"Write a Python program to sort Python Dictionaries by Key or Value?\"\"\"\n",
    "        \n",
    "        choice=input(\"please if you want to sort by keys or values\")\n",
    "        if choice.lower()==\"keys\":\n",
    "            merged_dict= self.merging_dict(d1,d2)\n",
    "            sort_key=sorted([i for i in merged_dict.keys()])\n",
    "\n",
    "            sort_dict={}\n",
    "            for i in range(len(merged_dict)):\n",
    "                for j in sort_key:\n",
    "                    sort_dict[j]=merged_dict[j]\n",
    "                return sort_dict\n",
    "        else:\n",
    "            merged_dict= self.merging_dict(d1,d2)\n",
    "            sort_val=sorted([i for i in merged_dict.values()])\n",
    "            new_dict={}\n",
    "            for j in sort_val:\n",
    "                for i in merged_dict.keys():\n",
    "                    if merged_dict[i]==j:\n",
    "                        new_dict[i]=merged_dict[i]\n",
    "                        break\n",
    "            return new_dict\n",
    "            \n",
    "\n",
    "            \n",
    "\n",
    "\n"
   ]
  },
  {
   "cell_type": "code",
   "execution_count": 29,
   "metadata": {},
   "outputs": [],
   "source": [
    "dictionary1={\"A\":[1,4,8,6,4,5],\n",
    "            \"C\":[5,6,1,2,3,4],\n",
    "            \"B\":[7,8,6,2,5,7]\n",
    "           }\n",
    "dictionary2={\"Y\":[3,68,89741,54],\n",
    "            \"X\":[67,8,118,79,1,8],\n",
    "            \"Z\":[9,9421,9,4,1,9,2]\n",
    "           }\n",
    "\n"
   ]
  },
  {
   "cell_type": "code",
   "execution_count": null,
   "metadata": {},
   "outputs": [],
   "source": []
  },
  {
   "cell_type": "code",
   "execution_count": 42,
   "metadata": {},
   "outputs": [],
   "source": [
    "new= {\n",
    "        \"month\": [1,2,3,4,5,6,7],\n",
    "         \"name\":[\"jan\",\"feb\",\"march\",\"april\",\"may\",\"june\",\"july\"]\n",
    "     }"
   ]
  },
  {
   "cell_type": "code",
   "execution_count": 51,
   "metadata": {},
   "outputs": [],
   "source": [
    "x=Assignment_12()"
   ]
  },
  {
   "cell_type": "code",
   "execution_count": 35,
   "metadata": {},
   "outputs": [
    {
     "data": {
      "text/plain": [
       "{1, 2, 3, 4, 5, 6, 7, 8}"
      ]
     },
     "execution_count": 35,
     "metadata": {},
     "output_type": "execute_result"
    }
   ],
   "source": [
    "x.unique_values()"
   ]
  },
  {
   "cell_type": "code",
   "execution_count": 36,
   "metadata": {},
   "outputs": [
    {
     "data": {
      "text/plain": [
       "81"
      ]
     },
     "execution_count": 36,
     "metadata": {},
     "output_type": "execute_result"
    }
   ],
   "source": [
    "x.sum_items()"
   ]
  },
  {
   "cell_type": "code",
   "execution_count": 37,
   "metadata": {},
   "outputs": [
    {
     "data": {
      "text/plain": [
       "{'A': [1, 4, 8, 6, 4, 5],\n",
       " 'C': [5, 6, 1, 2, 3, 4],\n",
       " 'B': [7, 8, 6, 2, 5, 7],\n",
       " 'Y': [3, 68, 89741, 54],\n",
       " 'X': [67, 8, 118, 79, 1, 8],\n",
       " 'Z': [9, 9421, 9, 4, 1, 9, 2]}"
      ]
     },
     "execution_count": 37,
     "metadata": {},
     "output_type": "execute_result"
    }
   ],
   "source": [
    "x.merging_dict(dictionary1,dictionary2)"
   ]
  },
  {
   "cell_type": "code",
   "execution_count": 43,
   "metadata": {},
   "outputs": [
    {
     "data": {
      "text/plain": [
       "{1: 'jan', 2: 'feb', 3: 'march', 4: 'april', 5: 'may', 6: 'june', 7: 'july'}"
      ]
     },
     "execution_count": 43,
     "metadata": {},
     "output_type": "execute_result"
    }
   ],
   "source": [
    "x.flat_dict_type1(new)"
   ]
  },
  {
   "cell_type": "code",
   "execution_count": 44,
   "metadata": {},
   "outputs": [
    {
     "data": {
      "text/plain": [
       "{1: 'jan', 2: 'feb', 3: 'march', 4: 'april', 5: 'may', 6: 'june', 7: 'july'}"
      ]
     },
     "execution_count": 44,
     "metadata": {},
     "output_type": "execute_result"
    }
   ],
   "source": [
    "x.flat_dict_type2(new)"
   ]
  },
  {
   "cell_type": "code",
   "execution_count": 45,
   "metadata": {},
   "outputs": [
    {
     "name": "stdout",
     "output_type": "stream",
     "text": [
      "enter key to updateSoumya\n",
      "enter value to update100\n"
     ]
    },
    {
     "data": {
      "text/plain": [
       "OrderedDict([('Soumya', '100'),\n",
       "             ('A', [1, 4, 8, 6, 4, 5]),\n",
       "             ('C', [5, 6, 1, 2, 3, 4]),\n",
       "             ('B', [7, 8, 6, 2, 5, 7]),\n",
       "             ('Y', [3, 68, 89741, 54]),\n",
       "             ('X', [67, 8, 118, 79, 1, 8]),\n",
       "             ('Z', [9, 9421, 9, 4, 1, 9, 2])])"
      ]
     },
     "execution_count": 45,
     "metadata": {},
     "output_type": "execute_result"
    }
   ],
   "source": [
    "x.insert_in_ordered(dictionary1)"
   ]
  },
  {
   "cell_type": "code",
   "execution_count": 52,
   "metadata": {},
   "outputs": [
    {
     "name": "stdout",
     "output_type": "stream",
     "text": [
      "Enter the patter to searchou\n",
      "Enter the test stringsoumyadeep\n"
     ]
    },
    {
     "data": {
      "text/plain": [
       "'Order is correct'"
      ]
     },
     "execution_count": 52,
     "metadata": {},
     "output_type": "execute_result"
    }
   ],
   "source": [
    "x.pattern_check()"
   ]
  },
  {
   "cell_type": "code",
   "execution_count": 53,
   "metadata": {},
   "outputs": [
    {
     "name": "stdout",
     "output_type": "stream",
     "text": [
      "Enter the patter to searchou\n",
      "Enter the test stringineuron\n"
     ]
    },
    {
     "data": {
      "text/plain": [
       "'order incorrect'"
      ]
     },
     "execution_count": 53,
     "metadata": {},
     "output_type": "execute_result"
    }
   ],
   "source": [
    "x.pattern_check()"
   ]
  },
  {
   "cell_type": "code",
   "execution_count": 54,
   "metadata": {},
   "outputs": [
    {
     "name": "stdout",
     "output_type": "stream",
     "text": [
      "please if you want to sort by keys or valueskeys\n"
     ]
    },
    {
     "data": {
      "text/plain": [
       "{'A': [1, 4, 8, 6, 4, 5],\n",
       " 'B': [7, 8, 6, 2, 5, 7],\n",
       " 'C': [5, 6, 1, 2, 3, 4],\n",
       " 'X': [67, 8, 118, 79, 1, 8],\n",
       " 'Y': [3, 68, 89741, 54],\n",
       " 'Z': [9, 9421, 9, 4, 1, 9, 2]}"
      ]
     },
     "execution_count": 54,
     "metadata": {},
     "output_type": "execute_result"
    }
   ],
   "source": [
    "x.merge_and_sort(dictionary1,dictionary2)"
   ]
  },
  {
   "cell_type": "code",
   "execution_count": null,
   "metadata": {},
   "outputs": [],
   "source": []
  }
 ],
 "metadata": {
  "kernelspec": {
   "display_name": "Python 3",
   "language": "python",
   "name": "python3"
  },
  "language_info": {
   "codemirror_mode": {
    "name": "ipython",
    "version": 3
   },
   "file_extension": ".py",
   "mimetype": "text/x-python",
   "name": "python",
   "nbconvert_exporter": "python",
   "pygments_lexer": "ipython3",
   "version": "3.8.3"
  }
 },
 "nbformat": 4,
 "nbformat_minor": 4
}
